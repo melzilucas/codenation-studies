{
 "cells": [
  {
   "cell_type": "markdown",
   "metadata": {},
   "source": [
    "# Desafio 3\n",
    "\n",
    "Neste desafio, iremos praticar nossos conhecimentos sobre distribuições de probabilidade. Para isso,\n",
    "dividiremos este desafio em duas partes:\n",
    "    \n",
    "1. A primeira parte contará com 3 questões sobre um *data set* artificial com dados de uma amostra normal e\n",
    "    uma binomial.\n",
    "2. A segunda parte será sobre a análise da distribuição de uma variável do _data set_ [Pulsar Star](https://archive.ics.uci.edu/ml/datasets/HTRU2), contendo 2 questões.\n",
    "\n",
    "> Obs.: Por favor, não modifique o nome das funções de resposta."
   ]
  },
  {
   "cell_type": "markdown",
   "metadata": {},
   "source": [
    "## _Setup_ geral"
   ]
  },
  {
   "cell_type": "code",
   "execution_count": 87,
   "metadata": {},
   "outputs": [],
   "source": [
    "import pandas as pd\n",
    "import matplotlib.pyplot as plt\n",
    "import numpy as np\n",
    "import scipy.stats as sct\n",
    "import seaborn as sns\n",
    "from statsmodels.distributions.empirical_distribution import ECDF"
   ]
  },
  {
   "cell_type": "code",
   "execution_count": 88,
   "metadata": {},
   "outputs": [],
   "source": [
    "from IPython.core.pylabtools import figsize\n",
    "\n",
    "\n",
    "figsize(12, 8)\n",
    "\n",
    "sns.set()"
   ]
  },
  {
   "cell_type": "markdown",
   "metadata": {},
   "source": [
    "## Parte 1"
   ]
  },
  {
   "cell_type": "markdown",
   "metadata": {},
   "source": [
    "### _Setup_ da parte 1"
   ]
  },
  {
   "cell_type": "code",
   "execution_count": 89,
   "metadata": {},
   "outputs": [],
   "source": [
    "np.random.seed(42)\n",
    "    \n",
    "dataframe = pd.DataFrame({\"normal\": sct.norm.rvs(20, 4, size=10000),\n",
    "                     \"binomial\": sct.binom.rvs(100, 0.2, size=10000)})"
   ]
  },
  {
   "cell_type": "markdown",
   "metadata": {},
   "source": [
    "## Inicie sua análise a partir da parte 1 a partir daqui"
   ]
  },
  {
   "cell_type": "code",
   "execution_count": 90,
   "metadata": {},
   "outputs": [
    {
     "data": {
      "text/plain": [
       "Index(['normal', 'binomial'], dtype='object')"
      ]
     },
     "execution_count": 90,
     "metadata": {},
     "output_type": "execute_result"
    }
   ],
   "source": [
    "# Sua análise da parte 1 começa aqui.\n",
    "\n",
    "dataframe.columns"
   ]
  },
  {
   "cell_type": "markdown",
   "metadata": {},
   "source": [
    "## Questão 1\n",
    "\n",
    "Qual a diferença entre os quartis (Q1, Q2 e Q3) das variáveis `normal` e `binomial` de `dataframe`? Responda como uma tupla de três elementos arredondados para três casas decimais.\n",
    "\n",
    "Em outra palavras, sejam `q1_norm`, `q2_norm` e `q3_norm` os quantis da variável `normal` e `q1_binom`, `q2_binom` e `q3_binom` os quantis da variável `binom`, qual a diferença `(q1_norm - q1 binom, q2_norm - q2_binom, q3_norm - q3_binom)`?"
   ]
  },
  {
   "cell_type": "code",
   "execution_count": 91,
   "metadata": {},
   "outputs": [],
   "source": [
    "def q1():\n",
    "    q_norm = np.quantile(dataframe['normal'], [0.25, 0.50, 0.75])\n",
    "    q_binom = np.quantile(dataframe['binomial'], [0.25, 0.50, 0.75])\n",
    "    diff_quantiles = [round(q_norm-q_binom, 3) for q_norm, q_binom in zip(q_norm, q_binom)]\n",
    "    \n",
    "    return tuple(diff_quantiles)"
   ]
  },
  {
   "cell_type": "markdown",
   "metadata": {},
   "source": [
    "Para refletir:\n",
    "\n",
    "* Você esperava valores dessa magnitude?\n",
    "\n",
    "* Você é capaz de explicar como distribuições aparentemente tão diferentes (discreta e contínua, por exemplo) conseguem dar esses valores?"
   ]
  },
  {
   "cell_type": "markdown",
   "metadata": {},
   "source": [
    "## Questão 2\n",
    "\n",
    "Considere o intervalo $[\\bar{x} - s, \\bar{x} + s]$, onde $\\bar{x}$ é a média amostral e $s$ é o desvio padrão. Qual a probabilidade nesse intervalo, calculada pela função de distribuição acumulada empírica (CDF empírica) da variável `normal`? Responda como uma único escalar arredondado para três casas decimais."
   ]
  },
  {
   "cell_type": "code",
   "execution_count": 92,
   "metadata": {},
   "outputs": [],
   "source": [
    "def q2():\n",
    "    norm_ecdf = ECDF(dataframe.normal)\n",
    "    norm_mean = dataframe.normal.mean()\n",
    "    norm_std = dataframe.normal.std()\n",
    "\n",
    "    ecdf = norm_ecdf(norm_mean + norm_std) - norm_ecdf(norm_mean - norm_std)\n",
    "    \n",
    "    return round(ecdf, 3).item()"
   ]
  },
  {
   "cell_type": "markdown",
   "metadata": {},
   "source": [
    "Para refletir:\n",
    "\n",
    "* Esse valor se aproxima do esperado teórico?\n",
    "* Experimente também para os intervalos $[\\bar{x} - 2s, \\bar{x} + 2s]$ e $[\\bar{x} - 3s, \\bar{x} + 3s]$."
   ]
  },
  {
   "cell_type": "markdown",
   "metadata": {},
   "source": [
    "## Questão 3\n",
    "\n",
    "Qual é a diferença entre as médias e as variâncias das variáveis `binomial` e `normal`? Responda como uma tupla de dois elementos arredondados para três casas decimais.\n",
    "\n",
    "Em outras palavras, sejam `m_binom` e `v_binom` a média e a variância da variável `binomial`, e `m_norm` e `v_norm` a média e a variância da variável `normal`. Quais as diferenças `(m_binom - m_norm, v_binom - v_norm)`?"
   ]
  },
  {
   "cell_type": "code",
   "execution_count": 93,
   "metadata": {},
   "outputs": [],
   "source": [
    "def q3():\n",
    "    binom_mean = dataframe.binomial.mean()\n",
    "    binom_var = dataframe.binomial.var()\n",
    "\n",
    "    norm_mean = dataframe.normal.mean()\n",
    "    norm_var = dataframe.normal.var()\n",
    "\n",
    "    return (round(binom_mean-norm_mean, 3), round(binom_var-norm_var, 3))"
   ]
  },
  {
   "cell_type": "markdown",
   "metadata": {},
   "source": [
    "Para refletir:\n",
    "\n",
    "* Você esperava valore dessa magnitude?\n",
    "* Qual o efeito de aumentar ou diminuir $n$ (atualmente 100) na distribuição da variável `binomial`?"
   ]
  },
  {
   "cell_type": "markdown",
   "metadata": {},
   "source": [
    "## Parte 2"
   ]
  },
  {
   "cell_type": "markdown",
   "metadata": {},
   "source": [
    "### _Setup_ da parte 2"
   ]
  },
  {
   "cell_type": "code",
   "execution_count": 94,
   "metadata": {},
   "outputs": [],
   "source": [
    "stars = pd.read_csv(\"pulsar_stars.csv\")\n",
    "\n",
    "stars.rename({old_name: new_name\n",
    "              for (old_name, new_name)\n",
    "              in zip(stars.columns,\n",
    "                     [\"mean_profile\", \"sd_profile\", \"kurt_profile\", \"skew_profile\", \"mean_curve\", \"sd_curve\", \"kurt_curve\", \"skew_curve\", \"target\"])\n",
    "             },\n",
    "             axis=1, inplace=True)\n",
    "\n",
    "stars.loc[:, \"target\"] = stars.target.astype(bool)"
   ]
  },
  {
   "cell_type": "markdown",
   "metadata": {},
   "source": [
    "## Inicie sua análise da parte 2 a partir daqui"
   ]
  },
  {
   "cell_type": "code",
   "execution_count": 95,
   "metadata": {},
   "outputs": [
    {
     "data": {
      "text/plain": [
       "<bound method DataFrame.info of        mean_profile  sd_profile  kurt_profile  skew_profile  mean_curve  \\\n",
       "0        102.507812   58.882430      0.465318     -0.515088    1.677258   \n",
       "1        103.015625   39.341649      0.323328      1.051164    3.121237   \n",
       "2        136.750000   57.178449     -0.068415     -0.636238    3.642977   \n",
       "3         88.726562   40.672225      0.600866      1.123492    1.178930   \n",
       "4         93.570312   46.698114      0.531905      0.416721    1.636288   \n",
       "5        119.484375   48.765059      0.031460     -0.112168    0.999164   \n",
       "6        130.382812   39.844056     -0.158323      0.389540    1.220736   \n",
       "7        107.250000   52.627078      0.452688      0.170347    2.331940   \n",
       "8        107.257812   39.496488      0.465882      1.162877    4.079431   \n",
       "9        142.078125   45.288073     -0.320328      0.283953    5.376254   \n",
       "10       133.257812   44.058244     -0.081060      0.115362    1.632107   \n",
       "11       134.960938   49.554327     -0.135304     -0.080470   10.696488   \n",
       "12       117.945312   45.506577      0.325438      0.661459    2.836120   \n",
       "13       138.179688   51.524484     -0.031852      0.046797    6.330268   \n",
       "14       114.367188   51.945716     -0.094499     -0.287984    2.738294   \n",
       "15       109.640625   49.017652      0.137636     -0.256700    1.508361   \n",
       "16       100.851562   51.743522      0.393837     -0.011241    2.841137   \n",
       "17       136.093750   51.691005     -0.045909     -0.271816    9.342809   \n",
       "18        99.367188   41.572202      1.547197      4.154106   27.555184   \n",
       "19       100.890625   51.890394      0.627487     -0.026498    3.883779   \n",
       "20       105.445312   41.139969      0.142654      0.320420    3.551839   \n",
       "21        95.867188   42.059922      0.326387      0.803502    1.832776   \n",
       "22       117.367188   53.908614      0.257953     -0.405049    6.018395   \n",
       "23       106.648438   56.367182      0.378355     -0.266372    2.436455   \n",
       "24       112.718750   50.301270      0.279391     -0.129011    8.281773   \n",
       "25       130.851562   52.432857      0.142597      0.018885    2.646321   \n",
       "26       119.437500   52.874815     -0.002549     -0.460360    2.365385   \n",
       "27       123.210938   51.078012      0.179377     -0.177285    2.107023   \n",
       "28       102.617188   49.692354      0.230439      0.193325    1.489130   \n",
       "29       110.109375   41.318170      0.094860      0.683113    1.010033   \n",
       "...             ...         ...           ...           ...         ...   \n",
       "17867     96.859375   49.822769      0.276811     -0.331824    1.744147   \n",
       "17868    137.375000   50.762775      0.085075     -0.092679    7.561037   \n",
       "17869    110.765625   55.342186      0.066100     -0.500415   14.379599   \n",
       "17870    119.007812   52.091041      0.215294     -0.020229    2.012542   \n",
       "17871    139.898438   44.281034     -0.044618      0.100841    1.139632   \n",
       "17872     89.453125   35.848827      0.731656      3.101474    1.450669   \n",
       "17873    126.554688   54.275888      0.207825     -0.191686    2.294314   \n",
       "17874    133.140625   43.706181     -0.012686      0.232394    2.091973   \n",
       "17875    111.765625   52.943585      0.671724      0.383594  149.843646   \n",
       "17876    118.296875   49.932824      0.144401     -0.269273    1.041806   \n",
       "17877     90.148438   40.786044      0.457139      0.885516    5.354515   \n",
       "17878    107.664062   44.462463      0.296046      0.227765    6.290970   \n",
       "17879    105.492188   43.500718      0.154180      0.408117    2.316054   \n",
       "17880    130.500000   46.149553      0.084445     -0.107355    1.529264   \n",
       "17881    131.000000   55.935789     -0.023598     -0.536651    1.159699   \n",
       "17882     84.421875   41.775555      0.757467      1.107075    1.336120   \n",
       "17883    106.875000   47.571328      0.199440      0.284964    3.079431   \n",
       "17884    133.820312   43.478161      0.136691      0.353121    0.982441   \n",
       "17885    127.070312   47.663564      0.006552     -0.123634    0.853679   \n",
       "17886    121.375000   53.245158      0.103772     -0.365119    1.095318   \n",
       "17887     98.726562   50.407823      0.565124      0.245231    0.570234   \n",
       "17888    126.625000   55.721826      0.002946     -0.303218    0.534281   \n",
       "17889    143.671875   45.302647     -0.045769      0.353643    5.173913   \n",
       "17890    118.484375   50.608483     -0.029059     -0.027494    0.422241   \n",
       "17891     96.000000   44.193113      0.388674      0.281344    1.871237   \n",
       "17892    136.429688   59.847421     -0.187846     -0.738123    1.296823   \n",
       "17893    122.554688   49.485605      0.127978      0.323061   16.409699   \n",
       "17894    119.335938   59.935939      0.159363     -0.743025   21.430602   \n",
       "17895    114.507812   53.902400      0.201161     -0.024789    1.946488   \n",
       "17896     57.062500   85.797340      1.406391      0.089520  188.306020   \n",
       "\n",
       "        sd_curve  kurt_curve  skew_curve  target  \n",
       "0      14.860146   10.576487  127.393580   False  \n",
       "1      21.744669    7.735822   63.171909   False  \n",
       "2      20.959280    6.896499   53.593661   False  \n",
       "3      11.468720   14.269573  252.567306   False  \n",
       "4      14.545074   10.621748  131.394004   False  \n",
       "5       9.279612   19.206230  479.756567   False  \n",
       "6      14.378941   13.539456  198.236457   False  \n",
       "7      14.486853    9.001004  107.972506   False  \n",
       "8      24.980418    7.397080   57.784738   False  \n",
       "9      29.009897    6.076266   37.831393   False  \n",
       "10     12.007806   11.972067  195.543448   False  \n",
       "11     41.342044    3.893934   14.131206   False  \n",
       "12     23.118350    8.943212   82.475592   False  \n",
       "13     31.576347    5.155940   26.143310   False  \n",
       "14     17.191891    9.050612   96.611903   False  \n",
       "15     12.072901   13.367926  223.438419   False  \n",
       "16     21.635778    8.302242   71.584369   False  \n",
       "17     38.096400    4.345438   18.673649   False  \n",
       "18     61.719016    2.208808    3.662680    True  \n",
       "19     23.045267    6.953168   52.279440   False  \n",
       "20     20.755017    7.739552   68.519771   False  \n",
       "21     12.248969   11.249331  177.230771   False  \n",
       "22     24.766123    4.807783   25.522616   False  \n",
       "23     18.405371    9.378660   96.860225   False  \n",
       "24     37.810012    4.691827   21.276210   False  \n",
       "25     15.654436    9.464164  115.673159   False  \n",
       "26     16.498032    9.008352   94.755657   False  \n",
       "27     16.921773   10.080333  112.558591   False  \n",
       "28     16.004411   12.646535  171.832902   False  \n",
       "29     13.026275   14.666511  231.204136   False  \n",
       "...          ...         ...         ...     ...  \n",
       "17867  14.764022   11.743961  160.619545   False  \n",
       "17868  33.471080    4.782510   23.379982   False  \n",
       "17869  45.320742    3.120461    8.463600   False  \n",
       "17870  18.754594   10.339768  111.760522   False  \n",
       "17871  11.196096   15.156427  280.553590   False  \n",
       "17872  14.204964   11.203558  142.473878   False  \n",
       "17873  17.429850   10.469100  122.767628   False  \n",
       "17874  13.489370    9.821958  131.521033   False  \n",
       "17875  97.926948   -0.696153   -1.260403    True  \n",
       "17876  10.199265   16.739483  355.416666   False  \n",
       "17877  29.759511    6.102231   37.979520   False  \n",
       "17878  33.512873    5.536014   30.245117   False  \n",
       "17879  19.098507    9.377229   95.200946   False  \n",
       "17880  11.757086   12.533831  211.327081   False  \n",
       "17881  10.856794   15.019974  289.362790   False  \n",
       "17882  12.026757   14.502863  258.119819   False  \n",
       "17883  20.984455    8.427475   78.259366   False  \n",
       "17884   9.486068   18.528395  444.411748   False  \n",
       "17885  11.197206   16.122702  296.507738   False  \n",
       "17886  12.239976   16.258042  303.880023   False  \n",
       "17887   9.011285   22.018589  561.833787   False  \n",
       "17888   8.588882   23.913761  660.197035   False  \n",
       "17889  26.462345    5.706651   33.802613   False  \n",
       "17890   8.086684   27.446113  830.638550   False  \n",
       "17891  15.833746    9.634927  104.821623   False  \n",
       "17892  12.166062   15.450260  285.931022   False  \n",
       "17893  44.626893    2.945244    8.297092   False  \n",
       "17894  58.872000    2.499517    4.595173   False  \n",
       "17895  13.381731   10.007967  134.238910   False  \n",
       "17896  64.712562   -1.597527    1.429475   False  \n",
       "\n",
       "[17897 rows x 9 columns]>"
      ]
     },
     "execution_count": 95,
     "metadata": {},
     "output_type": "execute_result"
    }
   ],
   "source": [
    "stars.info"
   ]
  },
  {
   "cell_type": "markdown",
   "metadata": {},
   "source": [
    "## Questão 4\n",
    "\n",
    "Considerando a variável `mean_profile` de `stars`:\n",
    "\n",
    "1. Filtre apenas os valores de `mean_profile` onde `target == 0` (ou seja, onde a estrela não é um pulsar).\n",
    "2. Padronize a variável `mean_profile` filtrada anteriormente para ter média 0 e variância 1.\n",
    "\n",
    "Chamaremos a variável resultante de `false_pulsar_mean_profile_standardized`.\n",
    "\n",
    "Encontre os quantis teóricos para uma distribuição normal de média 0 e variância 1 para 0.80, 0.90 e 0.95 através da função `norm.ppf()` disponível em `scipy.stats`.\n",
    "\n",
    "Quais as probabilidade associadas a esses quantis utilizando a CDF empírica da variável `false_pulsar_mean_profile_standardized`? Responda como uma tupla de três elementos arredondados para três casas decimais."
   ]
  },
  {
   "cell_type": "code",
   "execution_count": 96,
   "metadata": {},
   "outputs": [],
   "source": [
    "def q4():\n",
    "    notpulsar_mean_profile = stars.query('target == 0').mean_profile\n",
    "    notpulsar_mean_profile_scaled = (notpulsar_mean_profile - notpulsar_mean_profile.mean())/notpulsar_mean_profile.std()\n",
    "    \n",
    "    norm_quantile_func = sct.norm.ppf([0.8, 0.9, 0.95])\n",
    "    ecdf = ECDF(notpulsar_mean_profile_scaled)\n",
    "    \n",
    "    probabilities = ecdf(norm_quantile_func).round(3)\n",
    "    \n",
    "    return (probabilities[0], probabilities[1], probabilities[2])"
   ]
  },
  {
   "cell_type": "markdown",
   "metadata": {},
   "source": [
    "Para refletir:\n",
    "\n",
    "* Os valores encontrados fazem sentido?\n",
    "* O que isso pode dizer sobre a distribuição da variável `false_pulsar_mean_profile_standardized`?"
   ]
  },
  {
   "cell_type": "markdown",
   "metadata": {},
   "source": [
    "## Questão 5\n",
    "\n",
    "Qual a diferença entre os quantis Q1, Q2 e Q3 de `false_pulsar_mean_profile_standardized` e os mesmos quantis teóricos de uma distribuição normal de média 0 e variância 1? Responda como uma tupla de três elementos arredondados para três casas decimais."
   ]
  },
  {
   "cell_type": "code",
   "execution_count": 97,
   "metadata": {},
   "outputs": [],
   "source": [
    "def q5():\n",
    "    notpulsar_mean_profile = stars.query('target == 0').mean_profile\n",
    "    notpulsar_mean_profile_scaled = (notpulsar_mean_profile - notpulsar_mean_profile.mean())/notpulsar_mean_profile.std() \n",
    "    \n",
    "    scaled_quantiles = np.quantile(notpulsar_mean_profile_scaled, [0.25, 0.50, 0.75])\n",
    "    norm_quantiles = sct.norm.ppf([0.25, 0.50, 0.75], loc=0, scale=1)\n",
    "    \n",
    "    diff_scaled_norm_quantiles = [round(scaled-norm, 3) for scaled, norm in zip(scaled_quantiles, norm_quantiles)]\n",
    "\n",
    "    return tuple(diff_scaled_norm_quantiles)"
   ]
  },
  {
   "cell_type": "markdown",
   "metadata": {},
   "source": [
    "Para refletir:\n",
    "\n",
    "* Os valores encontrados fazem sentido?\n",
    "* O que isso pode dizer sobre a distribuição da variável `false_pulsar_mean_profile_standardized`?\n",
    "* Curiosidade: alguns testes de hipóteses sobre normalidade dos dados utilizam essa mesma abordagem."
   ]
  },
  {
   "cell_type": "code",
   "execution_count": null,
   "metadata": {},
   "outputs": [],
   "source": []
  },
  {
   "cell_type": "code",
   "execution_count": null,
   "metadata": {},
   "outputs": [],
   "source": []
  }
 ],
 "metadata": {
  "kernelspec": {
   "display_name": "Python 3",
   "language": "python",
   "name": "python3"
  },
  "language_info": {
   "codemirror_mode": {
    "name": "ipython",
    "version": 3
   },
   "file_extension": ".py",
   "mimetype": "text/x-python",
   "name": "python",
   "nbconvert_exporter": "python",
   "pygments_lexer": "ipython3",
   "version": "3.7.6"
  }
 },
 "nbformat": 4,
 "nbformat_minor": 2
}
